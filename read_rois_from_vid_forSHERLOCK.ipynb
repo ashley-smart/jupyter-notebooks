{
 "cells": [
  {
   "cell_type": "code",
   "execution_count": 1,
   "metadata": {},
   "outputs": [],
   "source": [
    "import math\n",
    "import csv \n",
    "import numpy as np\n",
    "from matplotlib import pyplot as plt\n",
    "from matplotlib import path\n",
    "import scipy as scipy\n",
    "import scipy.io\n",
    "import cv2\n",
    "\n",
    "import os\n",
    "os.listdir(os.getcwd())\n",
    "\n",
    "import json as json\n",
    "import pickle as pickle\n",
    "\n",
    "from read_roi import read_roi_file\n",
    "from read_roi import read_roi_zip\n",
    "\n",
    "from IPython.display import clear_output\n"
   ]
  },
  {
   "cell_type": "code",
   "execution_count": 26,
   "metadata": {},
   "outputs": [
    {
     "name": "stdout",
     "output_type": "stream",
     "text": [
      "['Light.roi', 'PER.roi', 'PER10.roi', 'PER11.roi', 'PER12.roi', 'PER13.roi', 'PER14.roi', 'PER15.roi', 'PER16.roi', 'PER17.roi', 'PER18.roi', 'PER19.roi', 'PER2.roi', 'PER20.roi', 'PER3.roi', 'PER4.roi', 'PER5.roi', 'PER6.roi', 'PER7.roi', 'PER8.roi', 'PER9.roi']\n",
      "vid opened successfully\n"
     ]
    }
   ],
   "source": [
    "\n",
    "date = '20191210'\n",
    "video_number = 1\n",
    "roi_number = 1\n",
    "video_name = 'Video_1.m4v'\n",
    "\n",
    "# roi_path = \"E:/PER2/\" + str(date) + \"/analysis/RoiSet_vid\" + str(roi_number) + \"/\"\n",
    "roi_path = \"Z:data/Ashley2/PER/\" + str(date) + \"/analysis/RoiSet_vid\" + str(roi_number) + \"/\"\n",
    "rois = os.listdir(roi_path)\n",
    "print(rois)\n",
    "\n",
    "# jpeg_path = \"E:/PER2/\" + str(date) + \"/analysis/Video_\" + str(video_number) + \"/\"\n",
    "# jpeg_file_names = os.listdir(jpeg_path)\n",
    "\n",
    "#video_path = \"E:/PER2/\" + str(date) + \"/\" + str(video_name)\n",
    "video_path = \"Z:data/Ashley2/PER/\" + str(date) + \"/\" + str(video_name)\n",
    "cap = cv2.VideoCapture(video_path)\n",
    "\n",
    "save_file_name = \"Results_video_\" + str(video_number) + \"_python_m4v.csv\"\n",
    "save_path = \"C:/Users/ashsm/Documents/Stanford/PER timing project/Proboscis Extension Videos/\" + str(date) + \"/\" \n",
    "\n",
    "# Check if opened successfully\n",
    "if (cap.isOpened() is False):\n",
    "    print('Error opening video stream or file for: ' + assayName)\n",
    "    print(\"Error opening video stream or file\") #, file=f)\n",
    "    ee = open(assayName + '_errorFile.txt', 'w')\n",
    "    ee.write('Error opening video stream or file.')\n",
    "    ee.close()\n",
    "else:\n",
    "    print('vid opened successfully') #, file=f)\n",
    "\n",
    "# how many frames in video?\n",
    "nFrames = int(cap.get(cv2.CAP_PROP_FRAME_COUNT))"
   ]
  },
  {
   "cell_type": "code",
   "execution_count": 11,
   "metadata": {},
   "outputs": [
    {
     "name": "stdout",
     "output_type": "stream",
     "text": [
      "Z:data/Ashley2/PER/20191210/analysis/RoiSet_vid1/Light.roi\n",
      "Z:data/Ashley2/PER/20191210/analysis/RoiSet_vid1/PER.roi\n",
      "Z:data/Ashley2/PER/20191210/analysis/RoiSet_vid1/PER10.roi\n",
      "Z:data/Ashley2/PER/20191210/analysis/RoiSet_vid1/PER11.roi\n",
      "Z:data/Ashley2/PER/20191210/analysis/RoiSet_vid1/PER12.roi\n",
      "Z:data/Ashley2/PER/20191210/analysis/RoiSet_vid1/PER13.roi\n",
      "Z:data/Ashley2/PER/20191210/analysis/RoiSet_vid1/PER14.roi\n",
      "Z:data/Ashley2/PER/20191210/analysis/RoiSet_vid1/PER15.roi\n",
      "Z:data/Ashley2/PER/20191210/analysis/RoiSet_vid1/PER16.roi\n",
      "Z:data/Ashley2/PER/20191210/analysis/RoiSet_vid1/PER17.roi\n",
      "Z:data/Ashley2/PER/20191210/analysis/RoiSet_vid1/PER18.roi\n",
      "Z:data/Ashley2/PER/20191210/analysis/RoiSet_vid1/PER19.roi\n",
      "Z:data/Ashley2/PER/20191210/analysis/RoiSet_vid1/PER2.roi\n",
      "Z:data/Ashley2/PER/20191210/analysis/RoiSet_vid1/PER20.roi\n",
      "Z:data/Ashley2/PER/20191210/analysis/RoiSet_vid1/PER3.roi\n",
      "Z:data/Ashley2/PER/20191210/analysis/RoiSet_vid1/PER4.roi\n",
      "Z:data/Ashley2/PER/20191210/analysis/RoiSet_vid1/PER5.roi\n",
      "Z:data/Ashley2/PER/20191210/analysis/RoiSet_vid1/PER6.roi\n",
      "Z:data/Ashley2/PER/20191210/analysis/RoiSet_vid1/PER7.roi\n",
      "Z:data/Ashley2/PER/20191210/analysis/RoiSet_vid1/PER8.roi\n",
      "Z:data/Ashley2/PER/20191210/analysis/RoiSet_vid1/PER9.roi\n"
     ]
    }
   ],
   "source": [
    "## Get ROI dictionaries ###\n",
    "\n",
    "#read_roi_file puts data into dict in dict\n",
    "all_roi_info_dict = []\n",
    "for roi_name in rois:\n",
    "    roi_file_path = os.path.join(roi_path, roi_name)\n",
    "    print(roi_file_path)\n",
    "    roi = read_roi_file(roi_file_path)\n",
    "    all_roi_info_dict.append(roi)"
   ]
  },
  {
   "cell_type": "code",
   "execution_count": 12,
   "metadata": {},
   "outputs": [
    {
     "name": "stdout",
     "output_type": "stream",
     "text": [
      "dict_keys(['PER'])\n",
      "{'PER': {'type': 'polygon', 'x': [44, 34, 65, 74], 'y': [191, 214, 226, 207], 'n': 4, 'width': 0, 'name': 'PER', 'position': 449}}\n",
      "2229\n",
      "['Light', 'PER', 'PER10', 'PER11', 'PER12', 'PER13', 'PER14', 'PER15', 'PER16', 'PER17', 'PER18', 'PER19', 'PER2', 'PER20', 'PER3', 'PER4', 'PER5', 'PER6', 'PER7', 'PER8', 'PER9']\n",
      "Mean(Light)\n",
      "Mean(PER)\n",
      "Mean(PER10)\n",
      "Mean(PER11)\n",
      "Mean(PER12)\n",
      "Mean(PER13)\n",
      "Mean(PER14)\n",
      "Mean(PER15)\n",
      "Mean(PER16)\n",
      "Mean(PER17)\n",
      "Mean(PER18)\n",
      "Mean(PER19)\n",
      "Mean(PER2)\n",
      "Mean(PER20)\n",
      "Mean(PER3)\n",
      "Mean(PER4)\n",
      "Mean(PER5)\n",
      "Mean(PER6)\n",
      "Mean(PER7)\n",
      "Mean(PER8)\n",
      "Mean(PER9)\n",
      "['Mean(Light)', 'Mean(PER)', 'Mean(PER10)', 'Mean(PER11)', 'Mean(PER12)', 'Mean(PER13)', 'Mean(PER14)', 'Mean(PER15)', 'Mean(PER16)', 'Mean(PER17)', 'Mean(PER18)', 'Mean(PER19)', 'Mean(PER2)', 'Mean(PER20)', 'Mean(PER3)', 'Mean(PER4)', 'Mean(PER5)', 'Mean(PER6)', 'Mean(PER7)', 'Mean(PER8)', 'Mean(PER9)']\n",
      "[(2304, 2304, 2229, 2229), [44, 34, 65, 74], [2290, 2298, 2272, 2256], [2326, 2354, 2347, 2311], [2106, 2124, 2118, 2091], [1908, 1918, 1894, 1878], [1610, 1626, 1606, 1580], [1396, 1411, 1399, 1370], [1178, 1199, 1190, 1162], [963, 980, 980, 948], [780, 798, 793, 761], [508, 533, 524, 496], [317, 328, 301, 294], [250, 273, 275, 248], [509, 518, 476, 470], [790, 797, 762, 753], [1036, 1049, 1033, 1008], [1348, 1362, 1345, 1326], [1660, 1668, 1646, 1638], [1882, 1886, 1863, 1851], [2109, 2117, 2088, 2076]]\n"
     ]
    }
   ],
   "source": [
    "print((all_roi_info_dict[1].keys()))\n",
    "print(all_roi_info_dict[1])\n",
    "print(all_roi_info_dict[0]['Light']['left'])\n",
    "\n",
    "#get roi names as keys for original dict that has dicts of info\n",
    "#need to use list to get rid of dict specifier\n",
    "roi_names_as_keys = []\n",
    "for i in range(len(all_roi_info_dict)):\n",
    "    roi_key_name = list(all_roi_info_dict[i].keys())\n",
    "    roi_names_as_keys.append(roi_key_name[0])\n",
    "print(roi_names_as_keys)\n",
    "\n",
    "all_x1 = []\n",
    "all_y1 = []\n",
    "all_width = []\n",
    "all_height = []\n",
    "all_name = []\n",
    "all_poly_name = []\n",
    "all_poly_x = []\n",
    "all_poly_y = []\n",
    "all_name_for_header = []\n",
    "\n",
    "for i in range(len(all_roi_info_dict)):\n",
    "    if all_roi_info_dict[i][roi_names_as_keys[i]]['type'] == 'rectangle':\n",
    "        x1 = all_roi_info_dict[i][roi_names_as_keys[i]]['left']\n",
    "        y1 = all_roi_info_dict[i][roi_names_as_keys[i]]['top']\n",
    "        height = all_roi_info_dict[i][roi_names_as_keys[i]]['height']\n",
    "        width = all_roi_info_dict[i][roi_names_as_keys[i]]['width']\n",
    "#         name = all_roi_info_dict[i][roi_names_as_keys[i]]['name']\n",
    "#         all_x1.append(x1)\n",
    "#         all_y1.append(y1)\n",
    "#         all_width.append(width)\n",
    "#         all_height.append(height)\n",
    "#         all_name.append(name)\n",
    "        #convert rectangle info to the same format as the polygon (xxxx) (yyyy) order for polygon is lower right then counterclockwise\n",
    "        right_x = x1 + width\n",
    "        lower_y = y1 + height #(y runs opposite expected, 0 is top, high is bottom)\n",
    "        poly_x = (right_x, right_x, x1, x1) #order = lower right, upper right, upper left, lower left\n",
    "        poly_y = (lower_y, y1, y1, lower_y) #order = lower right, upper right, upper left, lower left\n",
    "        \n",
    "    if all_roi_info_dict[i][roi_names_as_keys[i]]['type'] == 'polygon':\n",
    "        poly_x = all_roi_info_dict[i][roi_names_as_keys[i]]['x']\n",
    "        poly_y = all_roi_info_dict[i][roi_names_as_keys[i]]['y']\n",
    "        \n",
    "    poly_name = all_roi_info_dict[i][roi_names_as_keys[i]]['name']\n",
    "    name_for_header = \"Mean(\" + str(poly_name.replace(\"'\", \" \")) + \")\"\n",
    "    print(name_for_header)\n",
    "    all_poly_name.append(poly_name)\n",
    "    all_poly_x.append(poly_x)\n",
    "    all_poly_y.append(poly_y)\n",
    "    all_name_for_header.append(name_for_header)\n",
    "print(all_name_for_header)\n",
    "print(all_poly_x)"
   ]
  },
  {
   "cell_type": "code",
   "execution_count": null,
   "metadata": {},
   "outputs": [],
   "source": []
  },
  {
   "cell_type": "code",
   "execution_count": 15,
   "metadata": {},
   "outputs": [
    {
     "name": "stdout",
     "output_type": "stream",
     "text": [
      "read 1st frame: True\n",
      "(2056, 2464, 3)\n",
      "height: 2056 \n",
      "width: 2464 \n"
     ]
    }
   ],
   "source": [
    "# read frame-by-frame\n",
    "success, image_frame = cap.read()\n",
    "print('read 1st frame: ' + str(success)) #, file=f)\n",
    "\n",
    "\n",
    "# frame size\n",
    "h, w, _ = np.shape(image_frame)\n",
    "print(np.shape(image_frame))\n",
    "print('height: %d ' % h) #, file=f)\n",
    "print('width: %d ' % w) #, file=f)\n",
    "\n"
   ]
  },
  {
   "cell_type": "code",
   "execution_count": 19,
   "metadata": {},
   "outputs": [
    {
     "name": "stdout",
     "output_type": "stream",
     "text": [
      "[(2304, 705), (2304, 609), (2229, 609), (2229, 705)]\n",
      "[(44, 191), (34, 214), (65, 226), (74, 207)]\n",
      "[(2290, 125), (2298, 106), (2272, 72), (2256, 109)]\n",
      "[(2326, 1690), (2354, 1703), (2347, 1736), (2311, 1717)]\n",
      "[(2106, 1716), (2124, 1733), (2118, 1760), (2091, 1745)]\n",
      "[(1908, 1733), (1918, 1756), (1894, 1772), (1878, 1743)]\n",
      "[(1610, 1745), (1626, 1757), (1606, 1785), (1580, 1759)]\n",
      "[(1396, 1737), (1411, 1751), (1399, 1780), (1370, 1760)]\n",
      "[(1178, 1748), (1199, 1759), (1190, 1788), (1162, 1779)]\n",
      "[(963, 1772), (980, 1783), (980, 1808), (948, 1800)]\n",
      "[(780, 1721), (798, 1735), (793, 1765), (761, 1748)]\n",
      "[(508, 1728), (533, 1744), (524, 1769), (496, 1763)]\n",
      "[(317, 187), (328, 167), (301, 147), (294, 174)]\n",
      "[(250, 1742), (273, 1743), (275, 1778), (248, 1773)]\n",
      "[(509, 171), (518, 146), (476, 132), (470, 161)]\n",
      "[(790, 112), (797, 86), (762, 62), (753, 94)]\n",
      "[(1036, 85), (1049, 65), (1033, 29), (1008, 62)]\n",
      "[(1348, 128), (1362, 112), (1345, 77), (1326, 93)]\n",
      "[(1660, 116), (1668, 93), (1646, 70), (1638, 96)]\n",
      "[(1882, 98), (1886, 78), (1863, 58), (1851, 84)]\n",
      "[(2109, 105), (2117, 84), (2088, 57), (2076, 87)]\n"
     ]
    },
    {
     "data": {
      "text/plain": [
       "<matplotlib.collections.PathCollection at 0x150f0ebc128>"
      ]
     },
     "execution_count": 19,
     "metadata": {},
     "output_type": "execute_result"
    },
    {
     "data": {
      "image/png": "[encoded data removed]",
      "text/plain": [
       "<Figure size 432x288 with 1 Axes>"
      ]
     },
     "metadata": {
      "needs_background": "light"
     },
     "output_type": "display_data"
    }
   ],
   "source": [
    "\n",
    "#convert pixels in image into coordinates in an array\n",
    "xv, yv = np.meshgrid(np.arange(0,w,1), np.arange(0,h,1))\n",
    "\n",
    "#turn polygon roi into a path and see which pixels are inside of it\n",
    "all_roi_coordinates = []\n",
    "all_roi_paths = []\n",
    "all_roi_masks = []\n",
    "for roi_index in range(len(all_poly_x)):\n",
    "    x = all_poly_x[roi_index]\n",
    "    y = all_poly_y[roi_index]\n",
    "    roi_coordinates = list(zip(x,y))\n",
    "    print(roi_coordinates)\n",
    "    all_roi_coordinates.append(roi_coordinates)\n",
    "    ### NEED TO ADD LIGHT too, rectangle shape\n",
    "\n",
    "    #convert poly coords to path\n",
    "    #for poly_point_index in range(len(x)): #some polygons are 4 or 5 vertices\n",
    "    roi_path = path.Path(roi_coordinates)\n",
    "    all_roi_paths.append(roi_path)\n",
    "    roi_mask = np.where(roi_path.contains_points(np.hstack((xv.flatten()[:,np.newaxis],yv.flatten()[:,np.newaxis]))))\n",
    "    all_roi_masks.append(roi_mask)  \n",
    "\n",
    "#rough check of last roi\n",
    "plt.scatter(x,y)"
   ]
  },
  {
   "cell_type": "code",
   "execution_count": 17,
   "metadata": {
    "scrolled": true
   },
   "outputs": [
    {
     "ename": "NameError",
     "evalue": "name 'all_frames' is not defined",
     "output_type": "error",
     "traceback": [
      "\u001b[1;31m---------------------------------------------------------------------------\u001b[0m",
      "\u001b[1;31mNameError\u001b[0m                                 Traceback (most recent call last)",
      "\u001b[1;32m<ipython-input-17-aa48e6a418a8>\u001b[0m in \u001b[0;36m<module>\u001b[1;34m\u001b[0m\n\u001b[0;32m      1\u001b[0m \u001b[0mfig\u001b[0m \u001b[1;33m=\u001b[0m \u001b[0mplt\u001b[0m\u001b[1;33m.\u001b[0m\u001b[0mfigure\u001b[0m\u001b[1;33m(\u001b[0m\u001b[1;33m)\u001b[0m\u001b[1;33m\u001b[0m\u001b[1;33m\u001b[0m\u001b[0m\n\u001b[1;32m----> 2\u001b[1;33m \u001b[0mplt\u001b[0m\u001b[1;33m.\u001b[0m\u001b[0mimshow\u001b[0m\u001b[1;33m(\u001b[0m\u001b[0mall_frames\u001b[0m\u001b[1;33m[\u001b[0m\u001b[1;36m0\u001b[0m\u001b[1;33m]\u001b[0m\u001b[1;33m)\u001b[0m\u001b[1;33m\u001b[0m\u001b[1;33m\u001b[0m\u001b[0m\n\u001b[0m\u001b[0;32m      3\u001b[0m \u001b[1;32mfor\u001b[0m \u001b[0mi\u001b[0m \u001b[1;32min\u001b[0m \u001b[0mrange\u001b[0m\u001b[1;33m(\u001b[0m\u001b[0mlen\u001b[0m\u001b[1;33m(\u001b[0m\u001b[0mall_poly_x\u001b[0m\u001b[1;33m)\u001b[0m\u001b[1;33m)\u001b[0m\u001b[1;33m:\u001b[0m\u001b[1;33m\u001b[0m\u001b[1;33m\u001b[0m\u001b[0m\n\u001b[0;32m      4\u001b[0m     \u001b[0mplt\u001b[0m\u001b[1;33m.\u001b[0m\u001b[0mscatter\u001b[0m\u001b[1;33m(\u001b[0m\u001b[0mall_poly_x\u001b[0m\u001b[1;33m[\u001b[0m\u001b[0mi\u001b[0m\u001b[1;33m]\u001b[0m\u001b[1;33m,\u001b[0m \u001b[0mall_poly_y\u001b[0m\u001b[1;33m[\u001b[0m\u001b[0mi\u001b[0m\u001b[1;33m]\u001b[0m\u001b[1;33m,\u001b[0m \u001b[0mcolor\u001b[0m \u001b[1;33m=\u001b[0m \u001b[1;34m'red'\u001b[0m\u001b[1;33m,\u001b[0m \u001b[0ms\u001b[0m \u001b[1;33m=\u001b[0m \u001b[1;36m2\u001b[0m \u001b[1;33m)\u001b[0m\u001b[1;33m\u001b[0m\u001b[1;33m\u001b[0m\u001b[0m\n\u001b[0;32m      5\u001b[0m \u001b[0mplt\u001b[0m\u001b[1;33m.\u001b[0m\u001b[0mshow\u001b[0m\u001b[1;33m(\u001b[0m\u001b[1;33m)\u001b[0m\u001b[1;33m\u001b[0m\u001b[1;33m\u001b[0m\u001b[0m\n",
      "\u001b[1;31mNameError\u001b[0m: name 'all_frames' is not defined"
     ]
    },
    {
     "data": {
      "text/plain": [
       "<Figure size 432x288 with 0 Axes>"
      ]
     },
     "metadata": {},
     "output_type": "display_data"
    }
   ],
   "source": []
  },
  {
   "cell_type": "code",
   "execution_count": null,
   "metadata": {},
   "outputs": [],
   "source": []
  },
  {
   "cell_type": "code",
   "execution_count": 22,
   "metadata": {},
   "outputs": [
    {
     "name": "stdout",
     "output_type": "stream",
     "text": [
      "[[234.47353603603602, 236.45407503234154, 230.37576821773484, 128.90079016681298, 134.12468827930175, 118.39273552780931, 153.73019271948607, 81.8974358974359, 121.97215777262181, 192.28048780487805, 94.5326688815061, 121.04162102957284, 239.41304347826087, 188.61789600967353, 238.91503823279524, 239.81270627062707, 237.30735551663747, 240.26434195725534, 237.86338028169016, 235.15761589403974, 232.35276679841897], [234.48634572072072, 236.48641655886158, 230.35381913959614, 128.85338015803336, 133.9438902743142, 118.39273552780931, 153.6745182012848, 81.8840579710145, 121.66589327146171, 192.5121951219512, 94.10188261351053, 120.76122672508215, 239.97146739130434, 188.54413542926238, 238.77400169923536, 239.70792079207922, 237.03940455341507, 240.2103487064117, 237.94788732394366, 235.14172185430465, 232.29249011857706], [234.48634572072072, 236.46054333764553, 230.35469710272167, 128.89815627743636, 134.0149625935162, 118.39273552780931, 153.67130620985012, 81.8840579710145, 121.95591647331787, 192.35636856368563, 94.2735326688815, 120.78313253012048, 239.97146739130434, 188.55018137847642, 238.7926932880204, 239.77227722772278, 237.0306479859895, 240.2294713160855, 237.98028169014086, 235.14172185430465, 232.29249011857706], [234.46875, 236.61060802069858, 230.3169446883231, 128.82265144863916, 134.01745635910225, 118.39273552780931, 153.66488222698072, 81.79264214046823, 121.83294663573086, 192.40650406504065, 94.40753045404209, 120.91018619934283, 239.76902173913044, 188.63240628778718, 239.03908241291418, 239.94306930693068, 237.06392294220666, 240.31046119235094, 237.99295774647888, 235.10066225165562, 232.28853754940712], [234.44144144144144, 236.4243208279431, 230.4846356453029, 129.09306409130818, 134.0648379052369, 118.34733257661748, 153.72162740899358, 81.71683389074694, 121.86542923433875, 192.14363143631437, 94.44407530454042, 121.03395399780942, 239.7391304347826, 188.726723095526, 239.0, 239.93646864686468, 236.86865148861645, 240.28571428571428, 237.9901408450704, 235.09933774834437, 232.2490118577075], [234.42877252252254, 236.34282018111256, 230.55926251097455, 129.19139596136964, 133.8503740648379, 118.32236095346198, 153.7473233404711, 81.25752508361204, 121.85614849187935, 192.05555555555554, 94.42414174972315, 120.98247535596933, 239.4538043478261, 188.453446191052, 238.90314358538657, 240.0808580858086, 236.63485113835375, 240.09111361079866, 237.71408450704226, 235.05298013245033, 232.31422924901185], [234.43158783783784, 236.4424320827943, 230.55223880597015, 129.1782265144864, 133.88902743142145, 118.41089670828603, 153.76980728051393, 81.25863991081383, 122.11716937354988, 192.15040650406505, 94.24141749723145, 120.89704271631983, 239.43478260869566, 188.4776299879081, 238.98980458793542, 240.07343234323432, 236.7661996497373, 240.01574803149606, 237.65774647887324, 235.03046357615895, 232.32707509881422], [234.51238738738738, 236.42302716688226, 230.47497805092186, 129.08077260755047, 133.9002493765586, 118.41089670828603, 153.55353319057815, 81.1438127090301, 122.11252900232019, 192.34552845528455, 94.03654485049834, 120.88499452354874, 239.52717391304347, 188.59854897218864, 238.964316057774, 239.93151815181517, 236.93870402802102, 240.01237345331833, 237.73239436619718, 234.98145695364238, 232.16501976284584], [234.51632882882882, 236.45666235446313, 230.48551360842845, 129.29060579455663, 134.03491271820448, 118.41089670828603, 153.69057815845824, 81.5340022296544, 122.15313225058004, 192.2642276422764, 94.38870431893687, 121.00328587075575, 239.75951086956522, 189.11970979443774, 239.13678844519967, 240.12458745874588, 236.9553415061296, 240.00674915635545, 237.8774647887324, 235.0662251655629, 232.32213438735178], [234.51632882882882, 236.45666235446313, 230.48551360842845, 129.2914837576822, 133.98877805486285, 118.41089670828603, 153.69057815845824, 81.5340022296544, 122.15313225058004, 192.24525745257452, 94.38870431893687, 121.00328587075575, 239.76766304347825, 189.11970979443774, 239.13848768054376, 240.09488448844886, 236.95271453590192, 240.00674915635545, 237.8774647887324, 235.0662251655629, 232.32806324110672]]\n"
     ]
    }
   ],
   "source": [
    "\n",
    "### FOR VID TEST\n",
    "first_intensities = []\n",
    "frame_count = 1\n",
    "for i in range(10):\n",
    "    success, frame = cap.read()\n",
    "    if success:\n",
    "        frame_count += 1\n",
    "        flat_frame = frame.flatten()\n",
    "        #get averages for all ROI in one list\n",
    "        all_roi_avg_intensity_per_frame = []\n",
    "        for roi_index in range(len(all_roi_masks)):\n",
    "            avg_intensity_each_roi = np.mean(flat_frame[all_roi_masks[roi_index]])\n",
    "            all_roi_avg_intensity_per_frame.append(avg_intensity_each_roi)\n",
    "        first_intensities.append(all_roi_avg_intensity_per_frame)\n",
    "    else:\n",
    "        break\n",
    "\n",
    "    \n",
    "print(first_intensities)\n",
    "\n",
    "\n",
    "\n",
    "fig = plt.figure()\n",
    "plt.imshow(frame)\n",
    "for i in range(len(all_poly_x)):\n",
    "    plt.scatter(all_poly_x[i], all_poly_y[i], color = 'red', s = 2 )\n",
    "plt.show()\n",
    "print(all_poly_name)\n",
    "fig.savefig(os.path.join(save_path, 'video_' + str(video_number) + '_ROI_image.png'))\n"
   ]
  },
  {
   "cell_type": "code",
   "execution_count": 27,
   "metadata": {},
   "outputs": [
    {
     "data": {
      "image/png": "[encoded data removed]",
      "text/plain": [
       "<Figure size 432x288 with 1 Axes>"
      ]
     },
     "metadata": {
      "needs_background": "light"
     },
     "output_type": "display_data"
    },
    {
     "name": "stdout",
     "output_type": "stream",
     "text": [
      "['Light', 'PER', 'PER10', 'PER11', 'PER12', 'PER13', 'PER14', 'PER15', 'PER16', 'PER17', 'PER18', 'PER19', 'PER2', 'PER20', 'PER3', 'PER4', 'PER5', 'PER6', 'PER7', 'PER8', 'PER9']\n"
     ]
    }
   ],
   "source": [
    "fig = plt.figure()\n",
    "plt.imshow(frame)\n",
    "for i in range(len(all_poly_x)):\n",
    "    plt.scatter(all_poly_x[i], all_poly_y[i], color = 'red', s = 2 )\n",
    "plt.show()\n",
    "print(all_poly_name)\n",
    "fig.savefig(os.path.join(save_path, 'video_' + str(video_number) + '_ROI_image.png'))"
   ]
  },
  {
   "cell_type": "code",
   "execution_count": null,
   "metadata": {
    "scrolled": true
   },
   "outputs": [],
   "source": []
  },
  {
   "cell_type": "code",
   "execution_count": null,
   "metadata": {},
   "outputs": [],
   "source": []
  },
  {
   "cell_type": "code",
   "execution_count": null,
   "metadata": {},
   "outputs": [
    {
     "name": "stdout",
     "output_type": "stream",
     "text": [
      "Current frame #:  8736\n"
     ]
    }
   ],
   "source": [
    "%%time\n",
    "#cannot store all the data at once so \n",
    "#open each frame-find the itnensity in the ROI \n",
    "#and save the average intensity for each frame\n",
    "all_avg_intensity = []\n",
    "frame_count = 1\n",
    "while True: \n",
    "    clear_output(wait = True)\n",
    "    success, frame = cap.read()\n",
    "    if success:\n",
    "        frame_count += 1\n",
    "        flat_frame = frame.flatten()\n",
    "        #get averages for all ROI in one list\n",
    "        all_roi_avg_intensity_per_frame = []\n",
    "        for roi_index in range(len(all_roi_masks)):\n",
    "            avg_intensity_each_roi = np.mean(flat_frame[all_roi_masks[roi_index]])\n",
    "            all_roi_avg_intensity_per_frame.append(avg_intensity_each_roi)\n",
    "        all_avg_intensity.append(all_roi_avg_intensity_per_frame)\n",
    "    else:\n",
    "        break\n",
    "        \n",
    "\n",
    "    \n",
    "    #to get percent complete\n",
    "    #print(\"Current progress: \", np.round(jpeg_index/len(jpeg_file_names) *100, 2), \"%\")\n",
    "    print(\"Current frame #: \", frame_count)\n",
    "        "
   ]
  },
  {
   "cell_type": "code",
   "execution_count": null,
   "metadata": {
    "scrolled": true
   },
   "outputs": [],
   "source": [
    "#get images of the last frame for each ROI to verify ok\n",
    "'''\n",
    "        rectangle dimensions for the ROI around the blink light\n",
    "        x1,y1 ------\n",
    "        |          |\n",
    "        |          |\n",
    "        |          |\n",
    "        --------x2,y2\n",
    "\n",
    "        '''\n",
    "print(np.shape(all_poly_y))\n",
    "print(all_poly_y[0])\n",
    "plt.imshow(frame)\n",
    "plt.show()\n",
    "for i in range(len(all_poly_x)):\n",
    "    if all_poly_name[i] == 'Light':\n",
    "        #CROPPING THIS WAY ONLY WORKS FOR RECTANGLES\n",
    "        #to crop frame[y1:y2, x1:x2]\n",
    "        #polygon arrangement in poly_x and poly_y (x2, x2, x1, x1) (y2, y1, y1, y2)\n",
    "        y1 = all_poly_y[i][3]\n",
    "        y2 = all_poly_y[i][1]\n",
    "        x1 = all_poly_x[i][3]\n",
    "        x2 = all_poly_x[i][1]\n",
    "        print('light')\n",
    "        y1 = min(all_poly_y[i])  #y axis is opposite of what expect 0 is top\n",
    "        y2 = max(all_poly_y[i])\n",
    "        x1 = min(all_poly_x[i])\n",
    "        x2 = max(all_poly_x[i])\n",
    "        print(y1, y2, x1, x2)\n",
    "        cropped_frame = frame[y1:y2, x1:x2]\n",
    "        #cropped_frame = frame[0:300, 0:100]\n",
    "        plt.imshow(cropped_frame)\n",
    "        plt.show()\n",
    "        plt.scatter(all_poly_x[i], all_poly_y[i], color = 'red', s = 2 )\n",
    "        plt.show()\n",
    "    else:\n",
    "        y1 = min(all_poly_y[i])  #y axis is opposite of what expect 0 is top\n",
    "        y2 = max(all_poly_y[i])\n",
    "        x1 = min(all_poly_x[i])\n",
    "        x2 = max(all_poly_x[i])\n",
    "        \n",
    "        print(y1, y2, x1, x2)\n",
    "#         plt.imshow(frame)\n",
    "#         plt.scatter(x1, y1, color = 'red')\n",
    "#         plt.scatter(x2, y2, color = 'white')\n",
    "        cropped_frame = frame[y1:y2, x1:x2]\n",
    "        plt.imshow(cropped_frame)\n",
    "        plt.show()\n",
    "        plt.scatter(all_poly_x[i], all_poly_y[i], color = 'red', s = 2 ) #to see actual shape\n",
    "        plt.show()\n",
    "#     fig1.savefig(savepath + '_croppedLED.png')\n",
    "#     plt.close()\n",
    "\n",
    "print(all_name_for_header)\n",
    "print(np.shape(all_avg_intensity[:0]))\n",
    "print(all_avg_intensity[0:2])\n",
    "plt.scatter(range(len(all_avg_intensity[:0])), all_avg_intensity[:0])"
   ]
  },
  {
   "cell_type": "code",
   "execution_count": 1,
   "metadata": {},
   "outputs": [
    {
     "ename": "NameError",
     "evalue": "name 'all_name_for_header' is not defined",
     "output_type": "error",
     "traceback": [
      "\u001b[1;31m---------------------------------------------------------------------------\u001b[0m",
      "\u001b[1;31mNameError\u001b[0m                                 Traceback (most recent call last)",
      "\u001b[1;32m<ipython-input-1-f31befcce5d8>\u001b[0m in \u001b[0;36m<module>\u001b[1;34m\u001b[0m\n\u001b[0;32m      2\u001b[0m \u001b[1;31m#want the format to be the same as the fiji format so I don't have to change my other code\u001b[0m\u001b[1;33m\u001b[0m\u001b[1;33m\u001b[0m\u001b[1;33m\u001b[0m\u001b[0m\n\u001b[0;32m      3\u001b[0m \u001b[1;31m#format for fiji is row 1 [blank(col of frame numbers), Label, Mean(PER), Mean(PER2), etc]\u001b[0m\u001b[1;33m\u001b[0m\u001b[1;33m\u001b[0m\u001b[1;33m\u001b[0m\u001b[0m\n\u001b[1;32m----> 4\u001b[1;33m \u001b[0mprint\u001b[0m\u001b[1;33m(\u001b[0m\u001b[0mall_name_for_header\u001b[0m\u001b[1;33m)\u001b[0m\u001b[1;33m\u001b[0m\u001b[1;33m\u001b[0m\u001b[0m\n\u001b[0m\u001b[0;32m      5\u001b[0m \u001b[0mheader\u001b[0m \u001b[1;33m=\u001b[0m \u001b[0mall_name_for_header\u001b[0m\u001b[1;33m\u001b[0m\u001b[1;33m\u001b[0m\u001b[0m\n\u001b[0;32m      6\u001b[0m \u001b[1;31m# if 'Label' not in header: #prevents accidentally adding too many times\u001b[0m\u001b[1;33m\u001b[0m\u001b[1;33m\u001b[0m\u001b[1;33m\u001b[0m\u001b[0m\n",
      "\u001b[1;31mNameError\u001b[0m: name 'all_name_for_header' is not defined"
     ]
    }
   ],
   "source": [
    "#save results \n",
    "#want the format to be the same as the fiji format so I don't have to change my other code\n",
    "#format for fiji is row 1 [blank(col of frame numbers), Label, Mean(PER), Mean(PER2), etc]\n",
    "print(all_name_for_header)\n",
    "header = all_name_for_header\n",
    "# if 'Label' not in header: #prevents accidentally adding too many times\n",
    "#     header.insert(0,'Label')\n",
    "# print(header)\n",
    "\n",
    "\n",
    "with open(os.path.join(save_path, str(save_file_name)), 'w', newline='') as csvFile:\n",
    "    writer = csv.writer(csvFile)\n",
    "    writer.writerow(header)\n",
    "    for frame_i in range(len(all_avg_intensity)):\n",
    "        writer.writerow(all_avg_intensity[frame_i])"
   ]
  },
  {
   "cell_type": "code",
   "execution_count": null,
   "metadata": {},
   "outputs": [],
   "source": [
    "\n",
    "    "
   ]
  },
  {
   "cell_type": "code",
   "execution_count": null,
   "metadata": {},
   "outputs": [],
   "source": []
  },
  {
   "cell_type": "code",
   "execution_count": null,
   "metadata": {},
   "outputs": [],
   "source": []
  },
  {
   "cell_type": "code",
   "execution_count": null,
   "metadata": {},
   "outputs": [],
   "source": []
  },
  {
   "cell_type": "code",
   "execution_count": null,
   "metadata": {},
   "outputs": [],
   "source": [
    "print(end)"
   ]
  },
  {
   "cell_type": "code",
   "execution_count": null,
   "metadata": {},
   "outputs": [],
   "source": []
  },
  {
   "cell_type": "code",
   "execution_count": null,
   "metadata": {},
   "outputs": [],
   "source": []
  },
  {
   "cell_type": "code",
   "execution_count": null,
   "metadata": {},
   "outputs": [],
   "source": []
  },
  {
   "cell_type": "code",
   "execution_count": null,
   "metadata": {},
   "outputs": [],
   "source": []
  },
  {
   "cell_type": "code",
   "execution_count": null,
   "metadata": {},
   "outputs": [],
   "source": []
  },
  {
   "cell_type": "code",
   "execution_count": null,
   "metadata": {},
   "outputs": [],
   "source": []
  },
  {
   "cell_type": "code",
   "execution_count": null,
   "metadata": {},
   "outputs": [],
   "source": [
    "# #1. import image\n",
    "# # open the video and get some basic info\n",
    "# vidPath = \"F:/PER2/07162019/Video_1_Basler acA2440-35um (22467982)_20190716_104524163.avi\"\n",
    "# cap = cv2.VideoCapture(vidPath)\n",
    "\n",
    "# # Check if opened successfully\n",
    "# if (cap.isOpened() is False):\n",
    "#     print('Error opening video stream or file for: ' + assayName)\n",
    "#     print(\"Error opening video stream or file\") #, file=f)\n",
    "#     ee = open(assayName + '_errorFile.txt', 'w')\n",
    "#     ee.write('Error opening video stream or file.')\n",
    "#     ee.close()\n",
    "# else:\n",
    "#     print('vid opened successfully') #, file=f)\n",
    "\n",
    "# # how many frames in video?\n",
    "# nFrames = int(cap.get(cv2.CAP_PROP_FRAME_COUNT))\n",
    "# print('# of frames in video: %d ' % nFrames) #, file=f)\n",
    "\n",
    "# # read frame-by-frame\n",
    "# success, image_frame = cap.read()\n",
    "# print('read 1st frame: ' + str(success)) #, file=f)\n",
    "\n",
    "\n",
    "# # frame size\n",
    "# h, w, _ = np.shape(image_frame)\n",
    "# print(np.shape(image_frame))\n",
    "# print('height: %d ' % h) #, file=f)\n",
    "# print('width: %d ' % w) #, file=f)"
   ]
  },
  {
   "cell_type": "code",
   "execution_count": null,
   "metadata": {},
   "outputs": [],
   "source": []
  },
  {
   "cell_type": "code",
   "execution_count": null,
   "metadata": {},
   "outputs": [],
   "source": [
    "# #convert pixels in image into coordinates in an array\n",
    "# #print(image_frame)\n",
    "# # pixel_coords = np.meshgrid(np.linspace(0,w,1), np.linspace(0,h,1))\n",
    "# # pixel_coords = np.meshgrid(np.linspace(0,w,w), np.linspace(0,h,h))\n",
    "# xv, yv = np.meshgrid(np.arange(0,w,1), np.arange(0,h,1))\n",
    "# print(np.shape(xv))\n",
    "# print(np.shape(yv))\n",
    "# print(xv[0])"
   ]
  },
  {
   "cell_type": "code",
   "execution_count": null,
   "metadata": {
    "scrolled": true
   },
   "outputs": [],
   "source": [
    "# #turn my polygon roi into a path and see which pixels are inside of it\n",
    "# # x = [10,30,40,30]\n",
    "# # y = [1,3,5,9]\n",
    "# x = all_poly_x[1]\n",
    "# y = all_poly_y[1]\n",
    "# roi1 = list(zip(x,y))\n",
    "# print(roi1)\n",
    "# print(roi1[0])\n",
    "\n",
    "# roi1_poly = path.Path([roi1[0], roi1[1], roi1[2], roi1[3]])\n",
    "# roi1_mask = np.where(roi1_poly.contains_points(np.hstack((xv.flatten()[:,np.newaxis],yv.flatten()[:,np.newaxis]))))\n",
    "\n",
    "# print(np.shape(roi1_mask))\n",
    "# plt.scatter(x,y)\n",
    "\n"
   ]
  },
  {
   "cell_type": "code",
   "execution_count": null,
   "metadata": {},
   "outputs": [],
   "source": [
    "# print(all_poly_name[1])\n",
    "# plt.imshow(image_frame)\n",
    "# plt.scatter(x,y)\n",
    "# fig1 = plt.gcf()\n",
    "# plt.show()"
   ]
  },
  {
   "cell_type": "code",
   "execution_count": null,
   "metadata": {},
   "outputs": [],
   "source": [
    "# #use mask to get mean intensity of roi1 region\n",
    "# image_frame_flat = image_frame.flatten()\n",
    "# avg_intensity = np.mean(image_frame_flat[roi1_mask])\n",
    "\n",
    "# print(avg_intensity)\n",
    "# print(image_frame[roi1_mask])\n",
    "\n"
   ]
  },
  {
   "cell_type": "code",
   "execution_count": null,
   "metadata": {},
   "outputs": [],
   "source": [
    "# print(np.shape(image_frame))\n",
    "\n",
    "# test_image = (image_frame[3:6,100:103][0])\n",
    "# print(test_image)\n",
    "# print(np.shape(test_image))\n",
    "\n",
    "# a = np.array([1,30,100])\n",
    "# test_image = np.array([a,a,a])\n",
    "\n",
    "# print(test_image)\n",
    "\n",
    "\n",
    "# xv,yv = np.meshgrid(np.arange(0,3,1), np.arange(0,3,1))\n",
    "\n",
    "# # test_image_coord = np.vstack((xv.flatten(), yv.flatten()))\n",
    "# # print(test_image_coord)\n",
    "# # test_image_coord = np.hstack((xv.flatten()[:,np.newaxis], yv.flatten()[:,np.newaxis]))\n",
    "# # print(test_image_coord)\n",
    "# test_image_coord = np.stack((xv.flatten(), yv.flatten())).T\n",
    "# print(test_image_coord)\n",
    "\n",
    "# #fake_image_coord = [(0,0), (0,1), (0,2), (1,0), (1,1), (1,2), (2,0), (2,1), (2,2)]\n",
    "\n",
    "# test_poly = path.Path([(0,0), (2,2), (0,2)]) #upper right triangle\n",
    "# #test_poly = path.Path([(0,0), (2,2), (2,0)]) \n",
    "\n",
    "# test_mask_coords = np.where(test_poly.contains_points(test_image_coord))\n",
    "# # print('test_mask_coords', test_mask_coords)\n",
    "# # coord_mask = (test_image_coord[test_mask_coords])\n",
    "# # print(coord_mask)\n",
    "# test_image = test_image.flatten()\n",
    "# print(test_image)\n",
    "# test_intensity = np.sum(test_image[test_mask_coords])\n",
    "# print(test_intensity)\n",
    "# print(np.sum(test_image))\n",
    "\n",
    "# x = [0,2,0]\n",
    "# y = [0,2,2]\n",
    "# plt.scatter(x,y)"
   ]
  }
 ],
 "metadata": {
  "kernelspec": {
   "display_name": "Python (3.6-cme193)",
   "language": "python",
   "name": "cme193"
  },
  "language_info": {
   "codemirror_mode": {
    "name": "ipython",
    "version": 3
   },
   "file_extension": ".py",
   "mimetype": "text/x-python",
   "name": "python",
   "nbconvert_exporter": "python",
   "pygments_lexer": "ipython3",
   "version": "3.6.8"
  }
 },
 "nbformat": 4,
 "nbformat_minor": 2
}
